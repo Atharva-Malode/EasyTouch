{
 "cells": [
  {
   "cell_type": "code",
   "execution_count": 2,
   "id": "68426b7e",
   "metadata": {},
   "outputs": [
    {
     "name": "stdout",
     "output_type": "stream",
     "text": [
      "Requirement already satisfied: mediapipe in c:\\users\\atharva\\anaconda3\\envs\\opencv\\lib\\site-packages (0.10.2)\n",
      "Requirement already satisfied: attrs>=19.1.0 in c:\\users\\atharva\\anaconda3\\envs\\opencv\\lib\\site-packages (from mediapipe) (23.1.0)\n",
      "Requirement already satisfied: numpy in c:\\users\\atharva\\anaconda3\\envs\\opencv\\lib\\site-packages (from mediapipe) (1.24.1)\n",
      "Requirement already satisfied: protobuf<4,>=3.11 in c:\\users\\atharva\\anaconda3\\envs\\opencv\\lib\\site-packages (from mediapipe) (3.20.3)\n",
      "Requirement already satisfied: matplotlib in c:\\users\\atharva\\anaconda3\\envs\\opencv\\lib\\site-packages (from mediapipe) (3.7.2)\n",
      "Requirement already satisfied: sounddevice>=0.4.4 in c:\\users\\atharva\\anaconda3\\envs\\opencv\\lib\\site-packages (from mediapipe) (0.4.6)\n",
      "Requirement already satisfied: absl-py in c:\\users\\atharva\\anaconda3\\envs\\opencv\\lib\\site-packages (from mediapipe) (1.4.0)\n",
      "Requirement already satisfied: flatbuffers>=2.0 in c:\\users\\atharva\\anaconda3\\envs\\opencv\\lib\\site-packages (from mediapipe) (23.5.26)\n",
      "Requirement already satisfied: opencv-contrib-python in c:\\users\\atharva\\anaconda3\\envs\\opencv\\lib\\site-packages (from mediapipe) (4.8.0.74)\n",
      "Requirement already satisfied: CFFI>=1.0 in c:\\users\\atharva\\anaconda3\\envs\\opencv\\lib\\site-packages (from sounddevice>=0.4.4->mediapipe) (1.15.1)\n",
      "Requirement already satisfied: kiwisolver>=1.0.1 in c:\\users\\atharva\\anaconda3\\envs\\opencv\\lib\\site-packages (from matplotlib->mediapipe) (1.4.4)\n",
      "Requirement already satisfied: contourpy>=1.0.1 in c:\\users\\atharva\\anaconda3\\envs\\opencv\\lib\\site-packages (from matplotlib->mediapipe) (1.1.0)\n",
      "Requirement already satisfied: cycler>=0.10 in c:\\users\\atharva\\anaconda3\\envs\\opencv\\lib\\site-packages (from matplotlib->mediapipe) (0.11.0)\n",
      "Requirement already satisfied: pyparsing<3.1,>=2.3.1 in c:\\users\\atharva\\anaconda3\\envs\\opencv\\lib\\site-packages (from matplotlib->mediapipe) (3.0.9)\n",
      "Requirement already satisfied: importlib-resources>=3.2.0 in c:\\users\\atharva\\anaconda3\\envs\\opencv\\lib\\site-packages (from matplotlib->mediapipe) (6.0.0)\n",
      "Requirement already satisfied: python-dateutil>=2.7 in c:\\users\\atharva\\anaconda3\\envs\\opencv\\lib\\site-packages (from matplotlib->mediapipe) (2.8.2)\n",
      "Requirement already satisfied: packaging>=20.0 in c:\\users\\atharva\\anaconda3\\envs\\opencv\\lib\\site-packages (from matplotlib->mediapipe) (23.1)\n",
      "Requirement already satisfied: fonttools>=4.22.0 in c:\\users\\atharva\\anaconda3\\envs\\opencv\\lib\\site-packages (from matplotlib->mediapipe) (4.41.0)\n",
      "Requirement already satisfied: pillow>=6.2.0 in c:\\users\\atharva\\anaconda3\\envs\\opencv\\lib\\site-packages (from matplotlib->mediapipe) (9.4.0)\n",
      "Requirement already satisfied: pycparser in c:\\users\\atharva\\anaconda3\\envs\\opencv\\lib\\site-packages (from CFFI>=1.0->sounddevice>=0.4.4->mediapipe) (2.21)\n",
      "Requirement already satisfied: zipp>=3.1.0 in c:\\users\\atharva\\anaconda3\\envs\\opencv\\lib\\site-packages (from importlib-resources>=3.2.0->matplotlib->mediapipe) (3.16.2)\n",
      "Requirement already satisfied: six>=1.5 in c:\\users\\atharva\\anaconda3\\envs\\opencv\\lib\\site-packages (from python-dateutil>=2.7->matplotlib->mediapipe) (1.16.0)\n"
     ]
    }
   ],
   "source": [
    "!pip install mediapipe"
   ]
  },
  {
   "cell_type": "code",
   "execution_count": 1,
   "id": "ed47a224",
   "metadata": {},
   "outputs": [
    {
     "ename": "ModuleNotFoundError",
     "evalue": "No module named 'mediapipe'",
     "output_type": "error",
     "traceback": [
      "\u001b[1;31m---------------------------------------------------------------------------\u001b[0m",
      "\u001b[1;31mModuleNotFoundError\u001b[0m                       Traceback (most recent call last)",
      "Cell \u001b[1;32mIn[1], line 3\u001b[0m\n\u001b[0;32m      1\u001b[0m \u001b[38;5;28;01mimport\u001b[39;00m \u001b[38;5;21;01mcv2\u001b[39;00m\n\u001b[0;32m      2\u001b[0m \u001b[38;5;28;01mimport\u001b[39;00m \u001b[38;5;21;01mtime\u001b[39;00m\n\u001b[1;32m----> 3\u001b[0m \u001b[38;5;28;01mfrom\u001b[39;00m \u001b[38;5;21;01mhandtrackingmodule\u001b[39;00m \u001b[38;5;28;01mimport\u001b[39;00m handDetector \u001b[38;5;28;01mas\u001b[39;00m htm\n\u001b[0;32m      4\u001b[0m \u001b[38;5;28;01mimport\u001b[39;00m \u001b[38;5;21;01mnumpy\u001b[39;00m \u001b[38;5;28;01mas\u001b[39;00m \u001b[38;5;21;01mnp\u001b[39;00m\n\u001b[0;32m      5\u001b[0m \u001b[38;5;28;01mimport\u001b[39;00m \u001b[38;5;21;01mpyautogui\u001b[39;00m\n",
      "File \u001b[1;32m~\\Desktop\\drive\\github\\Open CV\\EasyyTouch\\Virtual_Mouse\\handtrackingmodule.py:2\u001b[0m\n\u001b[0;32m      1\u001b[0m \u001b[38;5;28;01mimport\u001b[39;00m \u001b[38;5;21;01mcv2\u001b[39;00m\n\u001b[1;32m----> 2\u001b[0m \u001b[38;5;28;01mimport\u001b[39;00m \u001b[38;5;21;01mmediapipe\u001b[39;00m \u001b[38;5;28;01mas\u001b[39;00m \u001b[38;5;21;01mmp\u001b[39;00m\n\u001b[0;32m      3\u001b[0m \u001b[38;5;28;01mimport\u001b[39;00m \u001b[38;5;21;01mtime\u001b[39;00m\n\u001b[0;32m      4\u001b[0m \u001b[38;5;28;01mimport\u001b[39;00m \u001b[38;5;21;01mmath\u001b[39;00m\n",
      "\u001b[1;31mModuleNotFoundError\u001b[0m: No module named 'mediapipe'"
     ]
    }
   ],
   "source": [
    "import cv2\n",
    "import time\n",
    "from handtrackingmodule import handDetector as htm\n",
    "import numpy as np\n",
    "import pyautogui\n",
    "\n",
    "wCam, hCam = 640, 480\n",
    "frameR = 100#frame reduction\n",
    "smoothening = 8\n",
    "pTime = 0\n",
    "plocX, plocY = 0, 0#previous locations of x and y\n",
    "clocX, clocY = 0, 0#current locations of x and y\n",
    "\n",
    "cap = cv2.VideoCapture(0)\n",
    "cap.set(3, wCam)#width\n",
    "cap.set(4, hCam)#height\n",
    "detector = htm(detectionCon=0.60,maxHands=1)#only one hand at a time\n",
    "wScr, hScr = pyautogui.size()\n",
    "\n",
    "while True:\n",
    "    # 1. Find hand Landmarks\n",
    "    success, img = cap.read()\n",
    "    img = detector.findHands(img)\n",
    "    lmList, bbox = detector.findPosition(img)\n",
    "\n",
    "    # 2. Get the tip of the index and middle fingers\n",
    "    if len(lmList) != 0:\n",
    "        x1,y1 = lmList[8][1:]\n",
    "        x2,y2 = lmList[12][1:]\n",
    "        #print(x1, y1, x2, y2)\n",
    "\n",
    "        # 3. Check which fingers are up\n",
    "        fingers = detector.fingersUp()\n",
    "    \n",
    "        #in moving mouse it was easy to move mouse upwards but in downward direction it is tough so we are setting region\n",
    "        cv2.rectangle(img, (frameR, frameR), (wCam - frameR, hCam - frameR),(255, 0, 255), 2)\n",
    "        \n",
    "        # 4. Only Index Finger : Moving Mode\n",
    "        if fingers[1] == 1 and fingers[2] == 0:\n",
    "            \n",
    "            # 5. Convert Coordinates as our cv window is 640*480 but my screen is full HD so have to convert it accordingly\n",
    "            x3 = np.interp(x1, (frameR, wCam - frameR), (0, wScr))#converting x coordinates\n",
    "            y3 = np.interp(y1, (frameR, hCam - frameR), (0, hScr))#converting y\n",
    "            \n",
    "            # 6. Smoothen Values avoid fluctuations\n",
    "            clocX = plocX + (x3 - plocX) / smoothening\n",
    "            clocY = plocY + (y3 - plocY) / smoothening\n",
    "            \n",
    "            # 7. Move Mouse\n",
    "            pyautogui.moveTo(wScr - clocX, clocY)#wscr-clocx for avoiding mirror inversion\n",
    "            cv2.circle(img, (x1, y1), 15, (255, 0, 255), cv2.FILLED)#circle shows that we are in moving mode\n",
    "            plocX, plocY = clocX, clocY\n",
    "            \n",
    "        # 8. Both Index and middle fingers are up : Clicking Mode but only if both fingers are near to each other\n",
    "        if fingers[1] == 1 and fingers[2] == 1:    \n",
    "            \n",
    "            # 9. Find distance between fingers so that we can make sure fingers are together\n",
    "            length, img, lineInfo = detector.findDistance(8, 12, img)\n",
    "            #print(length)\n",
    "\n",
    "            # 10. Click mouse if distance short\n",
    "            if length < 30:\n",
    "                cv2.circle(img, (lineInfo[4], lineInfo[5]),15, (0, 255, 0), cv2.FILLED)\n",
    "                pyautogui.click()\n",
    "    \n",
    "    # 11. Frame Rate\n",
    "    cTime = time.time()\n",
    "    fps = 1 / (cTime - pTime)\n",
    "    pTime = cTime\n",
    "    cv2.putText(img, str(int(fps)), (20, 50), cv2.FONT_HERSHEY_PLAIN, 3,(255, 0, 0), 3)\n",
    "   \n",
    "    # 12. Display\n",
    "    cv2.imshow(\"Image\", img)\n",
    "    cv2.waitKey(1)"
   ]
  },
  {
   "cell_type": "code",
   "execution_count": null,
   "id": "cc763e2b",
   "metadata": {},
   "outputs": [],
   "source": []
  },
  {
   "cell_type": "code",
   "execution_count": null,
   "id": "f847f05a",
   "metadata": {},
   "outputs": [],
   "source": []
  },
  {
   "cell_type": "code",
   "execution_count": null,
   "id": "e369a617",
   "metadata": {},
   "outputs": [],
   "source": []
  },
  {
   "cell_type": "code",
   "execution_count": null,
   "id": "5ac56915",
   "metadata": {},
   "outputs": [],
   "source": []
  },
  {
   "cell_type": "code",
   "execution_count": null,
   "id": "3f3cecf4",
   "metadata": {},
   "outputs": [],
   "source": []
  },
  {
   "cell_type": "code",
   "execution_count": null,
   "id": "ec647c55",
   "metadata": {},
   "outputs": [],
   "source": []
  },
  {
   "cell_type": "code",
   "execution_count": null,
   "id": "35277924",
   "metadata": {},
   "outputs": [],
   "source": []
  }
 ],
 "metadata": {
  "kernelspec": {
   "display_name": "Python 3 (ipykernel)",
   "language": "python",
   "name": "python3"
  },
  "language_info": {
   "codemirror_mode": {
    "name": "ipython",
    "version": 3
   },
   "file_extension": ".py",
   "mimetype": "text/x-python",
   "name": "python",
   "nbconvert_exporter": "python",
   "pygments_lexer": "ipython3",
   "version": "3.9.13"
  },
  "vscode": {
   "interpreter": {
    "hash": "45ba246c79d6356b6535aaaace6edc6837d9c1eb16931df578f0b9647a0b2f77"
   }
  }
 },
 "nbformat": 4,
 "nbformat_minor": 5
}
